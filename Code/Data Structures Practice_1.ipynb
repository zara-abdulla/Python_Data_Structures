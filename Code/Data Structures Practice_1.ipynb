{
 "cells": [
  {
   "cell_type": "code",
   "execution_count": null,
   "metadata": {
    "colab": {
     "base_uri": "https://localhost:8080/"
    },
    "executionInfo": {
     "elapsed": 37,
     "status": "ok",
     "timestamp": 1761495277655,
     "user": {
      "displayName": "zehra abdullayeva",
      "userId": "10788366133161466723"
     },
     "user_tz": -180
    },
    "id": "u9X1zED9tw-_",
    "outputId": "9dc6d057-d451-434b-c128-67da6081ca59"
   },
   "outputs": [
    {
     "name": "stdout",
     "output_type": "stream",
     "text": [
      "<class 'int'>\n",
      "<class 'float'>\n",
      "<class 'float'>\n"
     ]
    }
   ],
   "source": [
    "# 1. Find the data type of each number given below.\n",
    "# 1. Aşağıda verilmiş hər bir rəqəmin data tipini (type) tapın\n",
    "\n",
    "a = 23\n",
    "b = -0.7\n",
    "c = 56.8\n",
    "print(type(a))\n",
    "print(type(b))\n",
    "print(type(c))"
   ]
  },
  {
   "cell_type": "code",
   "execution_count": null,
   "metadata": {
    "colab": {
     "base_uri": "https://localhost:8080/"
    },
    "executionInfo": {
     "elapsed": 13,
     "status": "ok",
     "timestamp": 1761495356795,
     "user": {
      "displayName": "zehra abdullayeva",
      "userId": "10788366133161466723"
     },
     "user_tz": -180
    },
    "id": "sehUHqPnuhRA",
    "outputId": "0d3811a0-a13f-43ef-c7a8-b1e934f26223"
   },
   "outputs": [
    {
     "name": "stdout",
     "output_type": "stream",
     "text": [
      "12\n",
      "12.0\n"
     ]
    }
   ],
   "source": [
    "# 2. Convert the given float number first into an integer (int), then back into a float.\n",
    "# 2. Aşağıda verilmiş kəsrli ədədi (float) əvvəl tam ədədə (int), sonra yenidən kəsrli ədədə (float) çevirin\n",
    "\n",
    "d = 12.7\n",
    "d=int(d)\n",
    "print(d)\n",
    "d=float(d)\n",
    "print(d)"
   ]
  },
  {
   "cell_type": "code",
   "execution_count": null,
   "metadata": {
    "colab": {
     "base_uri": "https://localhost:8080/"
    },
    "executionInfo": {
     "elapsed": 21,
     "status": "ok",
     "timestamp": 1761495455306,
     "user": {
      "displayName": "zehra abdullayeva",
      "userId": "10788366133161466723"
     },
     "user_tz": -180
    },
    "id": "ClrB5UVvw43I",
    "outputId": "f80e5a2d-a6ea-4d0c-f3ca-d3f57413e31d"
   },
   "outputs": [
    {
     "name": "stdout",
     "output_type": "stream",
     "text": [
      "hessen\n",
      "HESSEN\n"
     ]
    }
   ],
   "source": [
    "# 4. Convert the given string to uppercase and lowercase.\n",
    "# 4. Aşağıda verilmiş sətiri böyük hərflərə və kiçik hərflərə çevirin.\n",
    "\n",
    "ad = \"Hessen\"\n",
    "print(ad.lower())\n",
    "print(ad.upper())"
   ]
  },
  {
   "cell_type": "code",
   "execution_count": null,
   "metadata": {
    "colab": {
     "base_uri": "https://localhost:8080/"
    },
    "executionInfo": {
     "elapsed": 18,
     "status": "ok",
     "timestamp": 1761495648548,
     "user": {
      "displayName": "zehra abdullayeva",
      "userId": "10788366133161466723"
     },
     "user_tz": -180
    },
    "id": "QKiOij_IxHzI",
    "outputId": "95350f4f-955c-47d2-930f-e94c98579ad9"
   },
   "outputs": [
    {
     "name": "stdout",
     "output_type": "stream",
     "text": [
      "13\n"
     ]
    },
    {
     "data": {
      "text/plain": [
       "0"
      ]
     },
     "execution_count": 7,
     "metadata": {},
     "output_type": "execute_result"
    }
   ],
   "source": [
    "# 5. Calculate the length of the given string and find the index of its first character.\n",
    "# 5. Aşağıda verilmiş sətirin uzunluğunu ( hesablayın və 1-ci hərfini indeks in tapin.\n",
    "salam = \"Hello, World!\"\n",
    "uzunluq=len(salam)\n",
    "print(uzunluq)\n",
    "indeks=salam.index(\"H\")\n",
    "print(indeks)"
   ]
  },
  {
   "cell_type": "code",
   "execution_count": null,
   "metadata": {
    "colab": {
     "base_uri": "https://localhost:8080/"
    },
    "executionInfo": {
     "elapsed": 20,
     "status": "ok",
     "timestamp": 1761495926091,
     "user": {
      "displayName": "zehra abdullayeva",
      "userId": "10788366133161466723"
     },
     "user_tz": -180
    },
    "id": "AjkBiUG8xP5p",
    "outputId": "668b05eb-48e0-43c7-db72-efe72933d4bb"
   },
   "outputs": [
    {
     "name": "stdout",
     "output_type": "stream",
     "text": [
      "Python öyrənirik\n",
      "Python öyrənirik\n",
      "Python öyrənirik\n"
     ]
    }
   ],
   "source": [
    "# 6. Join the two given strings and print the result.\n",
    "# 6. Aşağıda verilmiş iki sətiri (string) birləşdirin  və nəticəni çap edin.\n",
    "soz1 = \"Python \"\n",
    "soz2 = \"öyrənirik\"\n",
    "soz3=soz1+soz2\n",
    "print(soz3)\n",
    "print(f\"{soz1}{soz2}\")\n",
    "print(\"\".join([soz1, soz2]))"
   ]
  },
  {
   "cell_type": "code",
   "execution_count": null,
   "metadata": {
    "colab": {
     "base_uri": "https://localhost:8080/",
     "height": 36
    },
    "executionInfo": {
     "elapsed": 57,
     "status": "ok",
     "timestamp": 1761495982784,
     "user": {
      "displayName": "zehra abdullayeva",
      "userId": "10788366133161466723"
     },
     "user_tz": -180
    },
    "id": "FSujGSBpxUXB",
    "outputId": "653a2f3e-1f83-4540-ee67-5c4f64b98924"
   },
   "outputs": [
    {
     "data": {
      "application/vnd.google.colaboratory.intrinsic+json": {
       "type": "string"
      },
      "text/plain": [
       "'Hella Warld'"
      ]
     },
     "execution_count": 11,
     "metadata": {},
     "output_type": "execute_result"
    }
   ],
   "source": [
    "# 7. Replace the letter \"o\" with \"a\" in the given string.\n",
    "# 7. Aşağıda verilmiş sətirdə (string) \"o\" hərfini \"a\" ilə əvəz edin.\n",
    "cumle = \"Hello World\"\n",
    "cumle=cumle.replace(\"o\",\"a\")\n",
    "cumle"
   ]
  },
  {
   "cell_type": "code",
   "execution_count": null,
   "metadata": {
    "colab": {
     "base_uri": "https://localhost:8080/"
    },
    "executionInfo": {
     "elapsed": 10,
     "status": "ok",
     "timestamp": 1761496037830,
     "user": {
      "displayName": "zehra abdullayeva",
      "userId": "10788366133161466723"
     },
     "user_tz": -180
    },
    "id": "8JY8pxsDxaSZ",
    "outputId": "34fbd738-d724-4c45-89d5-19ee70d31829"
   },
   "outputs": [
    {
     "data": {
      "text/plain": [
       "['Bu', 'bir', 'testdir']"
      ]
     },
     "execution_count": 12,
     "metadata": {},
     "output_type": "execute_result"
    }
   ],
   "source": [
    "# 8. Split the given string by spaces and store the result as a list.\n",
    "# 8. Aşağıda verilmiş sətiri (string) boşluqlara görə parçalayın (bolun) və nəticəni siyahı (list) kimi saxlayın.\n",
    "cumle2 = \"Bu bir testdir\"\n",
    "list_cumle=cumle2.split()\n",
    "list_cumle"
   ]
  },
  {
   "cell_type": "code",
   "execution_count": null,
   "metadata": {
    "colab": {
     "base_uri": "https://localhost:8080/"
    },
    "executionInfo": {
     "elapsed": 34,
     "status": "ok",
     "timestamp": 1761496131098,
     "user": {
      "displayName": "zehra abdullayeva",
      "userId": "10788366133161466723"
     },
     "user_tz": -180
    },
    "id": "w0EwYwWZxoEx",
    "outputId": "af3847e5-57c1-4a82-e121-284a4fd90874"
   },
   "outputs": [
    {
     "name": "stdout",
     "output_type": "stream",
     "text": [
      "['alma', 'armud', 'gilas']\n"
     ]
    }
   ],
   "source": [
    "# 9. Modify the second element in the given list and print the list.\n",
    "# 9. Aşağıda verilmiş siyahıda (list) 2-ci elementi dəyişdirin və siyahını çap edin (print)\n",
    "meyveler = [\"alma\", \"banan\", \"gilas\"]\n",
    "meyveler[1]=\"armud\"\n",
    "print(meyveler)"
   ]
  },
  {
   "cell_type": "code",
   "execution_count": null,
   "metadata": {
    "colab": {
     "base_uri": "https://localhost:8080/"
    },
    "executionInfo": {
     "elapsed": 28,
     "status": "ok",
     "timestamp": 1761496428675,
     "user": {
      "displayName": "zehra abdullayeva",
      "userId": "10788366133161466723"
     },
     "user_tz": -180
    },
    "id": "5p8J1hINxtNx",
    "outputId": "fc144511-e198-45ed-aae1-c033bee3e7d9"
   },
   "outputs": [
    {
     "name": "stdout",
     "output_type": "stream",
     "text": [
      "['qırmızı', 'yaşıl', 'qara']\n",
      "3\n"
     ]
    }
   ],
   "source": [
    "# 10. Add a new element to the given list and calculate its length.\n",
    "# 10. Aşağıda verilmiş siyahıya (list) yeni element əlavə edin  və siyahının uzunluğunu hesablayın.\n",
    "rengler = [\"qırmızı\", \"yaşıl\"]\n",
    "rengler.append(\"qara\")\n",
    "print(rengler)\n",
    "print(len(rengler))\n",
    "\n"
   ]
  },
  {
   "cell_type": "code",
   "execution_count": null,
   "metadata": {
    "colab": {
     "base_uri": "https://localhost:8080/"
    },
    "executionInfo": {
     "elapsed": 23,
     "status": "ok",
     "timestamp": 1761496570267,
     "user": {
      "displayName": "zehra abdullayeva",
      "userId": "10788366133161466723"
     },
     "user_tz": -180
    },
    "id": "4Fiel6W4xyf5",
    "outputId": "62ce7e36-859c-4542-ce6c-25b696c86c46"
   },
   "outputs": [
    {
     "name": "stdout",
     "output_type": "stream",
     "text": [
      "[1, 3, 8]\n"
     ]
    }
   ],
   "source": [
    "# 11. Remove the first element from the given list and sort the list.\n",
    "# 11. Aşağıda verilmiş siyahıdan (list) 1-ci elementi silin və siyahını sıralayın.\n",
    "reqemler = [5, 3, 8, 1]\n",
    "reqemler.pop(0)\n",
    "reqemler.sort()\n",
    "print(reqemler)"
   ]
  },
  {
   "cell_type": "code",
   "execution_count": null,
   "metadata": {
    "colab": {
     "base_uri": "https://localhost:8080/"
    },
    "executionInfo": {
     "elapsed": 19,
     "status": "ok",
     "timestamp": 1761496814847,
     "user": {
      "displayName": "zehra abdullayeva",
      "userId": "10788366133161466723"
     },
     "user_tz": -180
    },
    "id": "L2tzP3mhx4xB",
    "outputId": "9fd4f5d1-4eb6-4194-c4fc-518b89dfc619"
   },
   "outputs": [
    {
     "data": {
      "text/plain": [
       "[1, 2, 3, 4]"
      ]
     },
     "execution_count": 22,
     "metadata": {},
     "output_type": "execute_result"
    }
   ],
   "source": [
    "# 12. Concatenate the two given lists and print the result.\n",
    "# 12. Aşağıda verilmiş iki siyahını (list) birləşdirin  və nəticəni çap edin.\n",
    "siyah1 = [1, 2]\n",
    "siyah2 = [3, 4]\n",
    "siyah1.extend(siyah2)\n",
    "siyah1\n",
    "\n"
   ]
  },
  {
   "cell_type": "code",
   "execution_count": null,
   "metadata": {
    "colab": {
     "base_uri": "https://localhost:8080/"
    },
    "executionInfo": {
     "elapsed": 8,
     "status": "ok",
     "timestamp": 1761496901420,
     "user": {
      "displayName": "zehra abdullayeva",
      "userId": "10788366133161466723"
     },
     "user_tz": -180
    },
    "id": "ODL8XIBYx89p",
    "outputId": "3b0915b2-c3c8-4404-ed50-0ffc9176608a"
   },
   "outputs": [
    {
     "data": {
      "text/plain": [
       "{'ad': 'Zahra', 'yas': 20}"
      ]
     },
     "execution_count": 23,
     "metadata": {},
     "output_type": "execute_result"
    }
   ],
   "source": [
    "# 13. Change the value of the \"name\" key in the given dictionary and print it.\n",
    "# 13. Aşağıda verilmiş dictionary-e  \"ad\" açarının dəyərini dəyişdirin və çap edin.\n",
    "telebe = {\"ad\": \"Ali\", \"yas\": 20}\n",
    "telebe[\"ad\"]=\"Zahra\"\n",
    "telebe\n",
    "\n",
    "# telebe.update({\"ad\": \"Zahra\"})\n",
    "# print(telebe)"
   ]
  },
  {
   "cell_type": "code",
   "execution_count": null,
   "metadata": {
    "colab": {
     "base_uri": "https://localhost:8080/"
    },
    "executionInfo": {
     "elapsed": 47,
     "status": "ok",
     "timestamp": 1761497197514,
     "user": {
      "displayName": "zehra abdullayeva",
      "userId": "10788366133161466723"
     },
     "user_tz": -180
    },
    "id": "CDbbUeimyCpK",
    "outputId": "fa3ac815-0a3d-4095-b019-00a9fe3b1854"
   },
   "outputs": [
    {
     "data": {
      "text/plain": [
       "dict_keys(['Xəmsə', 'The little prince'])"
      ]
     },
     "execution_count": 25,
     "metadata": {},
     "output_type": "execute_result"
    }
   ],
   "source": [
    "# 14. Add a new key-value pair to the given dictionary and print the keys.\n",
    "# 14. Aşağıda verilmiş lüğətə (dictionary) yeni key -value cütlüyü əlavə edin və açarları çap edin.\n",
    "kitablar = {\"Xəmsə\": \"Nizami Gəncəvi\"}\n",
    "kitablar.update({\"The little prince\" : \"Antoine de Saint-Exupéry\"})\n",
    "kitablar.keys()"
   ]
  },
  {
   "cell_type": "code",
   "execution_count": null,
   "metadata": {
    "colab": {
     "base_uri": "https://localhost:8080/"
    },
    "executionInfo": {
     "elapsed": 38,
     "status": "ok",
     "timestamp": 1761497439934,
     "user": {
      "displayName": "zehra abdullayeva",
      "userId": "10788366133161466723"
     },
     "user_tz": -180
    },
    "id": "3jl89hWsyB75",
    "outputId": "42ee4728-e7e0-470b-dd6a-135eb362c76c"
   },
   "outputs": [
    {
     "data": {
      "text/plain": [
       "{'ad': 'Vəli'}"
      ]
     },
     "execution_count": 26,
     "metadata": {},
     "output_type": "execute_result"
    }
   ],
   "source": [
    "# 15. Remove the \"age\" key from the given dictionary and print the result.\n",
    "# 15. Aşağıda verilmiş lüğətdən (dictionary) \"yas\" açarını silin  və nəticəni çap edin\n",
    "insan = {\"ad\": \"Vəli\", \"yas\": 25}\n",
    "insan.pop(\"yas\")\n",
    "insan"
   ]
  },
  {
   "cell_type": "code",
   "execution_count": null,
   "metadata": {
    "colab": {
     "base_uri": "https://localhost:8080/"
    },
    "executionInfo": {
     "elapsed": 54,
     "status": "ok",
     "timestamp": 1761497589926,
     "user": {
      "displayName": "zehra abdullayeva",
      "userId": "10788366133161466723"
     },
     "user_tz": -180
    },
    "id": "zJEuGGOdySWB",
    "outputId": "6ed04d63-421d-4790-df8f-fbe115e0399a"
   },
   "outputs": [
    {
     "name": "stdout",
     "output_type": "stream",
     "text": [
      "8\n"
     ]
    }
   ],
   "source": [
    "# 16. Sum the values of the given dictionary and print the result.\n",
    "# 16. Aşağıda verilmiş lüğətin (dictionary) dəyərlərini toplayın  və nəticəni çap edin.\n",
    "qiymetler = {\"alma\": 5, \"banan\": 3}\n",
    "c = qiymetler[\"alma\"] + qiymetler[\"banan\"]\n",
    "print(c)\n",
    "\n",
    "# c = sum(qiymetler.values())\n"
   ]
  },
  {
   "cell_type": "code",
   "execution_count": null,
   "metadata": {
    "colab": {
     "base_uri": "https://localhost:8080/"
    },
    "executionInfo": {
     "elapsed": 22,
     "status": "ok",
     "timestamp": 1761497989605,
     "user": {
      "displayName": "zehra abdullayeva",
      "userId": "10788366133161466723"
     },
     "user_tz": -180
    },
    "id": "TD2qZvANyWlC",
    "outputId": "91e9fcbe-5a73-4388-dce7-ac516fd830ca"
   },
   "outputs": [
    {
     "name": "stdout",
     "output_type": "stream",
     "text": [
      "2\n"
     ]
    }
   ],
   "source": [
    "# 17. Remove the second element from the given tuple and calculate its length.\n",
    "# 17. Aşağıda verilmiş kortecdə (tuple) 2-ci elementi çıxarın və uzunluğunu hesablayın.\n",
    "kortec = (\"qırmızı\", \"mavi\", \"yaşıl\")\n",
    "list1=list(kortec)\n",
    "list1.pop(1)\n",
    "kortec=tuple(list1)\n",
    "print(len(kortec))"
   ]
  },
  {
   "cell_type": "code",
   "execution_count": null,
   "metadata": {
    "colab": {
     "base_uri": "https://localhost:8080/"
    },
    "executionInfo": {
     "elapsed": 22,
     "status": "ok",
     "timestamp": 1761498060762,
     "user": {
      "displayName": "zehra abdullayeva",
      "userId": "10788366133161466723"
     },
     "user_tz": -180
    },
    "id": "zvyoktFRyau7",
    "outputId": "9a2f048c-65ab-4c5d-dbf8-84db9b5fd19f"
   },
   "outputs": [
    {
     "name": "stdout",
     "output_type": "stream",
     "text": [
      "Python Dərsləri\n"
     ]
    }
   ],
   "source": [
    "# 18. Convert the given string using the title() method and print it.\n",
    "# 18. Aşağıda verilmiş sətiri (string) title metodu ilə dəyişdirin və çap edin (print).\n",
    "basliq = \"python dərsləri\"\n",
    "basliq=basliq.title()\n",
    "print(basliq)"
   ]
  },
  {
   "cell_type": "code",
   "execution_count": null,
   "metadata": {
    "colab": {
     "base_uri": "https://localhost:8080/"
    },
    "executionInfo": {
     "elapsed": 17,
     "status": "ok",
     "timestamp": 1761498233633,
     "user": {
      "displayName": "zehra abdullayeva",
      "userId": "10788366133161466723"
     },
     "user_tz": -180
    },
    "id": "Ti6-fUZCykga",
    "outputId": "584bb6a5-e3ad-4311-f6db-ad5b18392c32"
   },
   "outputs": [
    {
     "name": "stdout",
     "output_type": "stream",
     "text": [
      "Bakı\n",
      "Məlumat yoxdur\n"
     ]
    }
   ],
   "source": [
    "# 19. Retrieve a value from the given dictionary using the get() method and print it.\n",
    "# 19. Aşağıda verilmiş lüğətdə (dictionary) get metodu ilə dəyər çıxarın və çap edin.\n",
    "get_info = {\"şəhər\": \"Bakı\"}\n",
    "print(get_info.get(\"şəhər\"))\n",
    "\n",
    "\n"
   ]
  },
  {
   "cell_type": "code",
   "execution_count": null,
   "metadata": {
    "colab": {
     "base_uri": "https://localhost:8080/"
    },
    "executionInfo": {
     "elapsed": 22,
     "status": "ok",
     "timestamp": 1761498661353,
     "user": {
      "displayName": "zehra abdullayeva",
      "userId": "10788366133161466723"
     },
     "user_tz": -180
    },
    "id": "xbWmZxBhypA6",
    "outputId": "c101ce8f-b704-45e9-c355-3298bfd06129"
   },
   "outputs": [
    {
     "name": "stdout",
     "output_type": "stream",
     "text": [
      "[(1, 'a'), (2, 'b')]\n"
     ]
    }
   ],
   "source": [
    "# 20. Combine the two given lists using zip() and print the result.\n",
    "# 20. Aşağıda verilmiş iki siyahını (list) zip ilə birləşdirin və çap edin (print).\n",
    "zip1 = [1, 2]\n",
    "zip2 = [\"a\", \"b\"]\n",
    "result= list(zip(zip1,zip2))\n",
    "print(result)"
   ]
  },
  {
   "cell_type": "code",
   "execution_count": null,
   "metadata": {
    "colab": {
     "base_uri": "https://localhost:8080/"
    },
    "executionInfo": {
     "elapsed": 27,
     "status": "ok",
     "timestamp": 1761498807211,
     "user": {
      "displayName": "zehra abdullayeva",
      "userId": "10788366133161466723"
     },
     "user_tz": -180
    },
    "id": "vE0PrpXqyyK6",
    "outputId": "86797561-4ec8-46b6-88a0-853219ed5449"
   },
   "outputs": [
    {
     "name": "stdout",
     "output_type": "stream",
     "text": [
      "Mənim adım Zahra-dir və yaşım 30-dur\n"
     ]
    }
   ],
   "source": [
    "# 21. Fill the given string using the format() method and print it.\n",
    "# 21. Aşağıda verilmiş sətiri (string) format metodu ilə doldurun və çap edin.\n",
    "format_cumle = \"Mənim adım {} və yaşım {}\"\n",
    "print(format_cumle.format(\"Zahra-dir\", \"30-dur\"))"
   ]
  }
 ],
 "metadata": {
  "colab": {
   "provenance": [
    {
     "file_id": "1J4wAtX-4O9v5JoJz5wTKPiXjXdG8Cbz6",
     "timestamp": 1761498811636
    }
   ]
  },
  "kernelspec": {
   "display_name": "Python 3",
   "name": "python3"
  },
  "language_info": {
   "name": "python"
  }
 },
 "nbformat": 4,
 "nbformat_minor": 0
}

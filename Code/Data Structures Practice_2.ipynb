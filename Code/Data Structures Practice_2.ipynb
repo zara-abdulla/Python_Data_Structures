{
 "cells": [
  {
   "cell_type": "markdown",
   "id": "7cce6d95-5999-4741-aafb-dd0f40f130d8",
   "metadata": {
    "id": "7cce6d95-5999-4741-aafb-dd0f40f130d8"
   },
   "source": [
    "# Numbers: int, float, complex"
   ]
  },
  {
   "cell_type": "code",
   "execution_count": 1,
   "id": "fc686078-c56d-4770-9a49-7252bd5fd50f",
   "metadata": {
    "executionInfo": {
     "elapsed": 81,
     "status": "ok",
     "timestamp": 1761759934719,
     "user": {
      "displayName": "zehra abdullayeva",
      "userId": "10788366133161466723"
     },
     "user_tz": -180
    },
    "id": "fc686078-c56d-4770-9a49-7252bd5fd50f"
   },
   "outputs": [],
   "source": [
    "a = 10\n",
    "b = -5"
   ]
  },
  {
   "cell_type": "code",
   "execution_count": 2,
   "id": "d6bca0fb-7fb6-4b36-af30-80928abc8dcf",
   "metadata": {
    "colab": {
     "base_uri": "https://localhost:8080/"
    },
    "executionInfo": {
     "elapsed": 26,
     "status": "ok",
     "timestamp": 1761759934751,
     "user": {
      "displayName": "zehra abdullayeva",
      "userId": "10788366133161466723"
     },
     "user_tz": -180
    },
    "id": "d6bca0fb-7fb6-4b36-af30-80928abc8dcf",
    "outputId": "b10898d7-58a0-43e9-fa05-d386a8bcd67a"
   },
   "outputs": [
    {
     "name": "stdout",
     "output_type": "stream",
     "text": [
      "5\n"
     ]
    }
   ],
   "source": [
    "# 1. Find the sum of a and b.\n",
    "# 1. a və b-nin cəmini tapın.\n",
    "c=a+b\n",
    "print(c)"
   ]
  },
  {
   "cell_type": "code",
   "execution_count": 3,
   "id": "f77f0d9d-bede-4099-9ee6-c185b002323d",
   "metadata": {
    "colab": {
     "base_uri": "https://localhost:8080/"
    },
    "executionInfo": {
     "elapsed": 20,
     "status": "ok",
     "timestamp": 1761759934780,
     "user": {
      "displayName": "zehra abdullayeva",
      "userId": "10788366133161466723"
     },
     "user_tz": -180
    },
    "id": "f77f0d9d-bede-4099-9ee6-c185b002323d",
    "outputId": "0d415df8-93e8-4914-8792-f58122a922a8"
   },
   "outputs": [
    {
     "data": {
      "text/plain": [
       "int"
      ]
     },
     "execution_count": 3,
     "metadata": {},
     "output_type": "execute_result"
    }
   ],
   "source": [
    "# 2. Determine the data type of the sum of a and b.\n",
    "# 2. Nəticənin növü nədir? (a və b cəmin).\n",
    "type(c)"
   ]
  },
  {
   "cell_type": "code",
   "execution_count": 4,
   "id": "32fb339b-a6b7-428a-9eab-96b777f7581d",
   "metadata": {
    "colab": {
     "base_uri": "https://localhost:8080/"
    },
    "executionInfo": {
     "elapsed": 100,
     "status": "ok",
     "timestamp": 1761759934889,
     "user": {
      "displayName": "zehra abdullayeva",
      "userId": "10788366133161466723"
     },
     "user_tz": -180
    },
    "id": "32fb339b-a6b7-428a-9eab-96b777f7581d",
    "outputId": "2f3fac6d-5737-4521-ffe1-e8bc2539a3dd"
   },
   "outputs": [
    {
     "name": "stdout",
     "output_type": "stream",
     "text": [
      "5.0\n"
     ]
    }
   ],
   "source": [
    "# 3. Convert the sum of a and b to float and print the result.\n",
    "# 3. Onu (a və b cəmini) float-a çevir və nəticəni çap et.\n",
    "c=float(c)\n",
    "print(c)\n"
   ]
  },
  {
   "cell_type": "code",
   "execution_count": 5,
   "id": "ae92be12-3c27-4b1d-8132-846da8822c50",
   "metadata": {
    "colab": {
     "base_uri": "https://localhost:8080/"
    },
    "executionInfo": {
     "elapsed": 38,
     "status": "ok",
     "timestamp": 1761759934930,
     "user": {
      "displayName": "zehra abdullayeva",
      "userId": "10788366133161466723"
     },
     "user_tz": -180
    },
    "id": "ae92be12-3c27-4b1d-8132-846da8822c50",
    "outputId": "94fa04ac-2a8f-4ea8-fd6f-b5e68a5827b6"
   },
   "outputs": [
    {
     "name": "stdout",
     "output_type": "stream",
     "text": [
      "<class 'float'>\n"
     ]
    }
   ],
   "source": [
    "# 4. Print the data type of the result.\n",
    "# 4. Məlumat növünü çap et.\n",
    "print(type(c))\n"
   ]
  },
  {
   "cell_type": "code",
   "execution_count": 6,
   "id": "6325256a-8c4d-4faf-b98c-c30a75664b13",
   "metadata": {
    "executionInfo": {
     "elapsed": 4,
     "status": "ok",
     "timestamp": 1761759934943,
     "user": {
      "displayName": "zehra abdullayeva",
      "userId": "10788366133161466723"
     },
     "user_tz": -180
    },
    "id": "6325256a-8c4d-4faf-b98c-c30a75664b13"
   },
   "outputs": [],
   "source": [
    "a = 3.5\n",
    "b = 2.0"
   ]
  },
  {
   "cell_type": "code",
   "execution_count": 7,
   "id": "d6dd8ebe-d0ac-48be-aa3b-1392e93fca3b",
   "metadata": {
    "colab": {
     "base_uri": "https://localhost:8080/"
    },
    "executionInfo": {
     "elapsed": 21,
     "status": "ok",
     "timestamp": 1761759934974,
     "user": {
      "displayName": "zehra abdullayeva",
      "userId": "10788366133161466723"
     },
     "user_tz": -180
    },
    "id": "d6dd8ebe-d0ac-48be-aa3b-1392e93fca3b",
    "outputId": "b696e105-ed86-4150-aac6-59eaea42f335"
   },
   "outputs": [
    {
     "data": {
      "text/plain": [
       "7.0"
      ]
     },
     "execution_count": 7,
     "metadata": {},
     "output_type": "execute_result"
    }
   ],
   "source": [
    "# 5. Multiply a and b.\n",
    "# 5. a və b-ni vurun.\n",
    "c=a*b\n",
    "c"
   ]
  },
  {
   "cell_type": "code",
   "execution_count": 8,
   "id": "72e5a4d5-a0ce-4106-9174-558af5024181",
   "metadata": {
    "colab": {
     "base_uri": "https://localhost:8080/"
    },
    "executionInfo": {
     "elapsed": 65,
     "status": "ok",
     "timestamp": 1761759935044,
     "user": {
      "displayName": "zehra abdullayeva",
      "userId": "10788366133161466723"
     },
     "user_tz": -180
    },
    "id": "72e5a4d5-a0ce-4106-9174-558af5024181",
    "outputId": "31a43077-9297-46bf-8c6f-e008877f1800"
   },
   "outputs": [
    {
     "name": "stdout",
     "output_type": "stream",
     "text": [
      "<class 'float'>\n"
     ]
    }
   ],
   "source": [
    "# 6. Determine the data type of the result.\n",
    "# 6. Nəticənin məlumat növü nədir?\n",
    "print(type(c))"
   ]
  },
  {
   "cell_type": "code",
   "execution_count": 9,
   "id": "ef40064e-8fd8-46d0-8620-f30954fb93f1",
   "metadata": {
    "colab": {
     "base_uri": "https://localhost:8080/"
    },
    "executionInfo": {
     "elapsed": 29,
     "status": "ok",
     "timestamp": 1761759935079,
     "user": {
      "displayName": "zehra abdullayeva",
      "userId": "10788366133161466723"
     },
     "user_tz": -180
    },
    "id": "ef40064e-8fd8-46d0-8620-f30954fb93f1",
    "outputId": "b14989d6-c63a-459c-8acf-cdf3ed743450"
   },
   "outputs": [
    {
     "name": "stdout",
     "output_type": "stream",
     "text": [
      "7\n"
     ]
    }
   ],
   "source": [
    "# 7. Convert the result to int and print it.\n",
    "# 7. Nəticəni int-ə çevir və nəticəni çap et.\n",
    "c=int(c)\n",
    "print(c)"
   ]
  },
  {
   "cell_type": "markdown",
   "id": "d3408082-dc49-4f36-9009-df6694084de2",
   "metadata": {
    "id": "d3408082-dc49-4f36-9009-df6694084de2"
   },
   "source": [
    "# Strings: str"
   ]
  },
  {
   "cell_type": "code",
   "execution_count": 10,
   "id": "7138a6ac-4c2d-4a1b-be43-722246a756a1",
   "metadata": {
    "executionInfo": {
     "elapsed": 7,
     "status": "ok",
     "timestamp": 1761759935098,
     "user": {
      "displayName": "zehra abdullayeva",
      "userId": "10788366133161466723"
     },
     "user_tz": -180
    },
    "id": "7138a6ac-4c2d-4a1b-be43-722246a756a1"
   },
   "outputs": [],
   "source": [
    "text = \"I love Data analysis\""
   ]
  },
  {
   "cell_type": "code",
   "execution_count": 11,
   "id": "6eec38b7-17d4-4d54-b948-4a6e9296df1d",
   "metadata": {
    "colab": {
     "base_uri": "https://localhost:8080/"
    },
    "executionInfo": {
     "elapsed": 20,
     "status": "ok",
     "timestamp": 1761759935130,
     "user": {
      "displayName": "zehra abdullayeva",
      "userId": "10788366133161466723"
     },
     "user_tz": -180
    },
    "id": "6eec38b7-17d4-4d54-b948-4a6e9296df1d",
    "outputId": "f9d9eb4c-59a5-4570-bbc0-1048e91857c8"
   },
   "outputs": [
    {
     "name": "stdout",
     "output_type": "stream",
     "text": [
      "20\n"
     ]
    }
   ],
   "source": [
    "# 1. Write a Python code to determine the length of a string.\n",
    "# 1.Sətirin uzunluğunu təyin etmək üçün bir Python kodu yazın.\n",
    "uzunluq=len(text)\n",
    "print(uzunluq)"
   ]
  },
  {
   "cell_type": "code",
   "execution_count": 12,
   "id": "7e5235dc-5b8d-4fa4-90bb-5a85e5044d59",
   "metadata": {
    "colab": {
     "base_uri": "https://localhost:8080/",
     "height": 36
    },
    "executionInfo": {
     "elapsed": 72,
     "status": "ok",
     "timestamp": 1761759935209,
     "user": {
      "displayName": "zehra abdullayeva",
      "userId": "10788366133161466723"
     },
     "user_tz": -180
    },
    "id": "7e5235dc-5b8d-4fa4-90bb-5a85e5044d59",
    "outputId": "a0e584f7-c981-4eeb-c5de-5a9be231878b"
   },
   "outputs": [
    {
     "data": {
      "text/plain": [
       "'love'"
      ]
     },
     "execution_count": 12,
     "metadata": {},
     "output_type": "execute_result"
    }
   ],
   "source": [
    "# 2. Extract only the word \"love\" from the text \"I love Data analysis\" and print it.\n",
    "# 2. text = \"I love Data analysis\" mətnindən yalnız \"love\" sözünü seçin və ekrana capa verin.\n",
    "selected=text[2:6]\n",
    "selected\n"
   ]
  },
  {
   "cell_type": "code",
   "execution_count": 13,
   "id": "98f6e626-8075-4860-a26e-1f72bfaaa134",
   "metadata": {
    "colab": {
     "base_uri": "https://localhost:8080/",
     "height": 36
    },
    "executionInfo": {
     "elapsed": 26,
     "status": "ok",
     "timestamp": 1761759935241,
     "user": {
      "displayName": "zehra abdullayeva",
      "userId": "10788366133161466723"
     },
     "user_tz": -180
    },
    "id": "98f6e626-8075-4860-a26e-1f72bfaaa134",
    "outputId": "f4c35b68-642d-42fb-9e30-057d68fecbef"
   },
   "outputs": [
    {
     "data": {
      "text/plain": [
       "'I like Data analysis'"
      ]
     },
     "execution_count": 13,
     "metadata": {},
     "output_type": "execute_result"
    }
   ],
   "source": [
    "# 3. Replace the word \"love\" with \"like\" in the text \"I love Data analysis\".\n",
    "# 3. text = \"I love Data analysis\" mətnindəki \"love\" sözünü \"like\" sözü ilə dəyişdirin.\n",
    "text1=text.replace(\"love\",\"like\")\n",
    "text1\n"
   ]
  },
  {
   "cell_type": "code",
   "execution_count": 14,
   "id": "52963dec-047e-45c5-90e5-ee84392e96ae",
   "metadata": {
    "executionInfo": {
     "elapsed": 9,
     "status": "ok",
     "timestamp": 1761759935257,
     "user": {
      "displayName": "zehra abdullayeva",
      "userId": "10788366133161466723"
     },
     "user_tz": -180
    },
    "id": "52963dec-047e-45c5-90e5-ee84392e96ae"
   },
   "outputs": [],
   "source": [
    "name= \"Elisa\"\n",
    "age=\"30\"\n"
   ]
  },
  {
   "cell_type": "code",
   "execution_count": 15,
   "id": "689d1850-b1fd-428e-8bf0-5af160ac0a9f",
   "metadata": {
    "colab": {
     "base_uri": "https://localhost:8080/"
    },
    "executionInfo": {
     "elapsed": 25,
     "status": "ok",
     "timestamp": 1761759935287,
     "user": {
      "displayName": "zehra abdullayeva",
      "userId": "10788366133161466723"
     },
     "user_tz": -180
    },
    "id": "689d1850-b1fd-428e-8bf0-5af160ac0a9f",
    "outputId": "6785043b-b278-4e1e-ea6a-c6ef5a875aec"
   },
   "outputs": [
    {
     "name": "stdout",
     "output_type": "stream",
     "text": [
      "Her name is Elisa and she is 30 years old.\n"
     ]
    }
   ],
   "source": [
    "# 4. Write Python code using f-string to create and print a sentence:\n",
    "#    \"Her name is Elisa and she is 30 years old.\"\n",
    "\n",
    "# 4. F-string metodu ilə bir cümlə yaradan və çap edən Python kodu yazın.\n",
    "# Cümlə belə olmalıdır: \"Onun adı Elisa-dır və o, 30 yaşındadır.\n",
    "\n",
    "my_text = f\"Her name is {name} and she is {age} years old.\"\n",
    "print(my_text)\n"
   ]
  },
  {
   "cell_type": "code",
   "execution_count": 16,
   "id": "a0dc2a6d-edab-4953-b4f0-48cd72cd5971",
   "metadata": {
    "colab": {
     "base_uri": "https://localhost:8080/"
    },
    "executionInfo": {
     "elapsed": 106,
     "status": "ok",
     "timestamp": 1761759935397,
     "user": {
      "displayName": "zehra abdullayeva",
      "userId": "10788366133161466723"
     },
     "user_tz": -180
    },
    "id": "a0dc2a6d-edab-4953-b4f0-48cd72cd5971",
    "outputId": "d9a8aa49-1fdb-4a97-afbb-6e6843c1f3f1"
   },
   "outputs": [
    {
     "name": "stdout",
     "output_type": "stream",
     "text": [
      "12\n"
     ]
    }
   ],
   "source": [
    "# 5. Write Python code to find the index of the substring \"Elisa\" within the sentence.\n",
    "# 5. Cümlə daxilində \"Elisa\" alt sətirinin indeksini tapmaq üçün bir Python kodu yazın.\n",
    "print(my_text.find(\"Elisa\"))\n"
   ]
  },
  {
   "cell_type": "code",
   "execution_count": 17,
   "id": "83229661-c345-410a-bf98-fe7696d2ce02",
   "metadata": {
    "executionInfo": {
     "elapsed": 10,
     "status": "ok",
     "timestamp": 1761759935418,
     "user": {
      "displayName": "zehra abdullayeva",
      "userId": "10788366133161466723"
     },
     "user_tz": -180
    },
    "id": "83229661-c345-410a-bf98-fe7696d2ce02"
   },
   "outputs": [],
   "source": [
    "number = 0.1234"
   ]
  },
  {
   "cell_type": "code",
   "execution_count": 18,
   "id": "1e116d7f-7afa-4be2-915f-554fd46a1d8b",
   "metadata": {
    "colab": {
     "base_uri": "https://localhost:8080/"
    },
    "executionInfo": {
     "elapsed": 30,
     "status": "ok",
     "timestamp": 1761759935458,
     "user": {
      "displayName": "zehra abdullayeva",
      "userId": "10788366133161466723"
     },
     "user_tz": -180
    },
    "id": "1e116d7f-7afa-4be2-915f-554fd46a1d8b",
    "outputId": "f8bfd293-886f-49fd-f5b3-45898cac81fe"
   },
   "outputs": [
    {
     "name": "stdout",
     "output_type": "stream",
     "text": [
      "0.1\n",
      "0.12\n",
      "0.123\n"
     ]
    }
   ],
   "source": [
    "# 6. Use f-string to format a number with different decimal places (1f, 2f, and 3f) and print it.\n",
    "\n",
    "# 6 Bu ədədi fərqli onluq (1f 2f və 3f ) ilə formatlamaq və\n",
    "# çap etmək üçün F-string metodundan istifadə edən bir Python kodu yazın.\n",
    "print(f\"{number:.1f}\")\n",
    "print(f\"{number:.2f}\")\n",
    "print(f\"{number:.3f}\")\n",
    "\n"
   ]
  },
  {
   "cell_type": "markdown",
   "id": "490b243e-1e3c-49e4-b071-6514683774c0",
   "metadata": {
    "id": "490b243e-1e3c-49e4-b071-6514683774c0"
   },
   "source": [
    "# Bool"
   ]
  },
  {
   "cell_type": "code",
   "execution_count": 19,
   "id": "5b6b2cb3-7014-42c4-a3a9-0b8c8116b45c",
   "metadata": {
    "executionInfo": {
     "elapsed": 26,
     "status": "ok",
     "timestamp": 1761759935487,
     "user": {
      "displayName": "zehra abdullayeva",
      "userId": "10788366133161466723"
     },
     "user_tz": -180
    },
    "id": "5b6b2cb3-7014-42c4-a3a9-0b8c8116b45c"
   },
   "outputs": [],
   "source": [
    "# 1. Create two boolean variables in Python: is_student and is_teacher.\n",
    "#    Set is_student to True and is_teacher to False.\n",
    "\n",
    "# 1 Python-da iki məntiqi dəyişən yaradın:\n",
    "# is_student və is_teacher. is_student dəyişənini True, is_teacher dəyişənini isə False olaraq təyin edin.\n",
    "is_student=True\n",
    "is_teacher=False"
   ]
  },
  {
   "cell_type": "markdown",
   "id": "83c3d65f-8234-4259-a840-0570c27299c3",
   "metadata": {
    "id": "83c3d65f-8234-4259-a840-0570c27299c3"
   },
   "source": [
    "#  Lists"
   ]
  },
  {
   "cell_type": "code",
   "execution_count": 20,
   "id": "2dd2b452-1227-459e-9101-f99a31377d7a",
   "metadata": {
    "executionInfo": {
     "elapsed": 18,
     "status": "ok",
     "timestamp": 1761759935492,
     "user": {
      "displayName": "zehra abdullayeva",
      "userId": "10788366133161466723"
     },
     "user_tz": -180
    },
    "id": "2dd2b452-1227-459e-9101-f99a31377d7a"
   },
   "outputs": [],
   "source": [
    "fruit_selection = [\"apple\", \"banana\", \"cherry\", \"date\", \"elderberry\"]"
   ]
  },
  {
   "cell_type": "code",
   "execution_count": 21,
   "id": "4ba93bb5-244f-4174-988c-f10b6a47d08f",
   "metadata": {
    "colab": {
     "base_uri": "https://localhost:8080/"
    },
    "executionInfo": {
     "elapsed": 103,
     "status": "ok",
     "timestamp": 1761759935598,
     "user": {
      "displayName": "zehra abdullayeva",
      "userId": "10788366133161466723"
     },
     "user_tz": -180
    },
    "id": "4ba93bb5-244f-4174-988c-f10b6a47d08f",
    "outputId": "54e8961b-76bc-417d-885d-c9dbc9fcafd6"
   },
   "outputs": [
    {
     "name": "stdout",
     "output_type": "stream",
     "text": [
      "['apple', 'banana', 'cherry', 'date', 'elderberry']\n"
     ]
    }
   ],
   "source": [
    "# 1. Write Python code to sort the fruits alphabetically and print the sorted list.\n",
    "# 1.Meyvələri əlifba sırasına görə sıralamaq üçün bir Python kodu yazın. Sıralanmış siyahını çap edin.\n",
    "fruit_selection.sort()\n",
    "print(fruit_selection)\n"
   ]
  },
  {
   "cell_type": "code",
   "execution_count": 22,
   "id": "56082a9e-cf4b-40ba-816f-49c5a36392fa",
   "metadata": {
    "colab": {
     "base_uri": "https://localhost:8080/"
    },
    "executionInfo": {
     "elapsed": 21,
     "status": "ok",
     "timestamp": 1761759935630,
     "user": {
      "displayName": "zehra abdullayeva",
      "userId": "10788366133161466723"
     },
     "user_tz": -180
    },
    "id": "56082a9e-cf4b-40ba-816f-49c5a36392fa",
    "outputId": "e73dd437-fc74-4bf5-a0da-07d812566f9d"
   },
   "outputs": [
    {
     "name": "stdout",
     "output_type": "stream",
     "text": [
      "['apple', 'banana', 'cherry', 'date', 'elderberry', 'orange']\n"
     ]
    }
   ],
   "source": [
    "# 2. Write Python code to add the fruit \"orange\" to the end of the fruit_selection list and print the updated list.\n",
    "# 2. fruit_selection siyahısının sonuna \"orange\" meyvəsini əlavə edən bir Python kodu yazın.\n",
    "# Daha sonra yenilənmiş siyahını çap edin.\n",
    "fruit_selection.append(\"orange\")\n",
    "print(fruit_selection)\n"
   ]
  },
  {
   "cell_type": "code",
   "execution_count": 23,
   "id": "c27e15fd-b306-462c-8c07-7ee4af06308c",
   "metadata": {
    "colab": {
     "base_uri": "https://localhost:8080/"
    },
    "executionInfo": {
     "elapsed": 12,
     "status": "ok",
     "timestamp": 1761759935646,
     "user": {
      "displayName": "zehra abdullayeva",
      "userId": "10788366133161466723"
     },
     "user_tz": -180
    },
    "id": "c27e15fd-b306-462c-8c07-7ee4af06308c",
    "outputId": "78b69278-9c1b-42a4-fc31-44f7f5163700"
   },
   "outputs": [
    {
     "name": "stdout",
     "output_type": "stream",
     "text": [
      "['apple', 'banana', 'cherry', 'date', 'elderberry']\n"
     ]
    }
   ],
   "source": [
    "# 3. Remove the last element from the fruit_selection list and print it.\n",
    "# 3. fruit_selection siyahısının son elementini silin və onu çap edin.\n",
    "fruit_selection.pop()\n",
    "print(fruit_selection)\n",
    "\n",
    "# del fruit_selection[-1]"
   ]
  },
  {
   "cell_type": "code",
   "execution_count": 24,
   "id": "11268d1f-64ab-40b9-bb4a-ca6e5aa93d80",
   "metadata": {
    "executionInfo": {
     "elapsed": 3,
     "status": "ok",
     "timestamp": 1761759935654,
     "user": {
      "displayName": "zehra abdullayeva",
      "userId": "10788366133161466723"
     },
     "user_tz": -180
    },
    "id": "11268d1f-64ab-40b9-bb4a-ca6e5aa93d80"
   },
   "outputs": [],
   "source": [
    "numbers = [5, 4, 3, 1]"
   ]
  },
  {
   "cell_type": "code",
   "execution_count": 25,
   "id": "82568528-73e0-4599-8622-e93008eee1b9",
   "metadata": {
    "colab": {
     "base_uri": "https://localhost:8080/"
    },
    "executionInfo": {
     "elapsed": 25,
     "status": "ok",
     "timestamp": 1761759935682,
     "user": {
      "displayName": "zehra abdullayeva",
      "userId": "10788366133161466723"
     },
     "user_tz": -180
    },
    "id": "82568528-73e0-4599-8622-e93008eee1b9",
    "outputId": "6d65b8c1-2958-40e1-d897-bd25983487fe"
   },
   "outputs": [
    {
     "name": "stdout",
     "output_type": "stream",
     "text": [
      "[1, 2, 3, 4, 5]\n"
     ]
    }
   ],
   "source": [
    "# 4. Sort the list of numbers in ascending order and add any missing numbers.\n",
    "# 4. Rəqəmlərin siyahısını kiçikdən böyüyə sıralayın və çatışmayan rəqəmləri əlavə edin.\n",
    "numbers.append(2)\n",
    "numbers.sort()\n",
    "\n",
    "print(numbers)"
   ]
  },
  {
   "cell_type": "code",
   "execution_count": 26,
   "id": "98fef4ba-fdb4-4c52-bea5-e2cc9089e9d0",
   "metadata": {
    "executionInfo": {
     "elapsed": 13,
     "status": "ok",
     "timestamp": 1761759935746,
     "user": {
      "displayName": "zehra abdullayeva",
      "userId": "10788366133161466723"
     },
     "user_tz": -180
    },
    "id": "98fef4ba-fdb4-4c52-bea5-e2cc9089e9d0"
   },
   "outputs": [],
   "source": [
    "text = \"I-love-Data-analysis\""
   ]
  },
  {
   "cell_type": "code",
   "execution_count": 27,
   "id": "1616233a-b934-4aba-b258-a5dde0ad83ec",
   "metadata": {
    "colab": {
     "base_uri": "https://localhost:8080/"
    },
    "executionInfo": {
     "elapsed": 20,
     "status": "ok",
     "timestamp": 1761759935773,
     "user": {
      "displayName": "zehra abdullayeva",
      "userId": "10788366133161466723"
     },
     "user_tz": -180
    },
    "id": "1616233a-b934-4aba-b258-a5dde0ad83ec",
    "outputId": "354fbab9-b12f-43e6-e417-f2b1fea74efa"
   },
   "outputs": [
    {
     "name": "stdout",
     "output_type": "stream",
     "text": [
      "['I', 'love', 'Data', 'analysis']\n"
     ]
    }
   ],
   "source": [
    "# 5. Write Python code to convert this text into a list and store it as \"text_list\".\n",
    "# 5. Bu mətnin bir siyahıya çevrilməsi üçün Python kodu yazın. Siyahını \"text_list\" kimi saxlayın.\n",
    "text_list=text.split(\"-\")\n",
    "print(text_list)\n"
   ]
  },
  {
   "cell_type": "code",
   "execution_count": 28,
   "id": "5c834036-4c8b-4a4a-b718-5344cc4a9504",
   "metadata": {
    "colab": {
     "base_uri": "https://localhost:8080/"
    },
    "executionInfo": {
     "elapsed": 21,
     "status": "ok",
     "timestamp": 1761759935800,
     "user": {
      "displayName": "zehra abdullayeva",
      "userId": "10788366133161466723"
     },
     "user_tz": -180
    },
    "id": "5c834036-4c8b-4a4a-b718-5344cc4a9504",
    "outputId": "d9bea8af-2626-4473-e1f9-f0ea1288c357"
   },
   "outputs": [
    {
     "name": "stdout",
     "output_type": "stream",
     "text": [
      "['I', 'love', 'Data', 'analysis']\n",
      "I love Data analysis\n"
     ]
    }
   ],
   "source": [
    "# 6. Print this list and convert it back to text.\n",
    "# 6 Bu siyahını çap edin və siyahını yenidən mətnə çevirin.\n",
    "print(text_list)\n",
    "text=\" \".join(text_list)\n",
    "print(text)"
   ]
  },
  {
   "cell_type": "code",
   "execution_count": 29,
   "id": "323ceecd-acee-4669-a073-db3ebd0eaae5",
   "metadata": {
    "colab": {
     "base_uri": "https://localhost:8080/"
    },
    "executionInfo": {
     "elapsed": 16,
     "status": "ok",
     "timestamp": 1761759935823,
     "user": {
      "displayName": "zehra abdullayeva",
      "userId": "10788366133161466723"
     },
     "user_tz": -180
    },
    "id": "323ceecd-acee-4669-a073-db3ebd0eaae5",
    "outputId": "9e6afcc0-dcff-426e-cd4c-f8f8aa1cdc4a"
   },
   "outputs": [
    {
     "name": "stdout",
     "output_type": "stream",
     "text": [
      "text uzunluğu: 20\n",
      "list uzunluğu: 4\n",
      "text-in element sayı daha çoxdur\n"
     ]
    }
   ],
   "source": [
    "# 7. Count the number of elements in both \"text\" and \"text_list\" and compare them to determine which has more elements.\n",
    "\n",
    "# 7. \"text\" və \"text_list\" içərisindəki elementlərin sayını hesablayın və\n",
    "# nəticələri müqayisə edərək hansının daha çox elementə malik olduğunu müəyyənləşdirin.\n",
    "text_len = len(text)\n",
    "text_list_len = len(text_list)\n",
    "print(\"text uzunluğu:\", text_len)\n",
    "print(\"list uzunluğu:\", text_list_len)\n",
    "\n",
    "if text_len > text_list_len:\n",
    "    print(\"text-in element sayı daha çoxdur\")\n",
    "else:\n",
    "    print(\"listin element sayı daha çoxdur\")"
   ]
  },
  {
   "cell_type": "markdown",
   "id": "6f23b807-89b9-4222-9d62-51faaf21223d",
   "metadata": {
    "id": "6f23b807-89b9-4222-9d62-51faaf21223d"
   },
   "source": [
    "# Dictionaries"
   ]
  },
  {
   "cell_type": "code",
   "execution_count": 30,
   "id": "18bcca35-b673-49f7-a046-80685d0b0442",
   "metadata": {
    "colab": {
     "base_uri": "https://localhost:8080/"
    },
    "executionInfo": {
     "elapsed": 65,
     "status": "ok",
     "timestamp": 1761759935894,
     "user": {
      "displayName": "zehra abdullayeva",
      "userId": "10788366133161466723"
     },
     "user_tz": -180
    },
    "id": "18bcca35-b673-49f7-a046-80685d0b0442",
    "outputId": "b6a6ef65-9626-4848-a3b1-0da9afb5bcf3"
   },
   "outputs": [
    {
     "data": {
      "text/plain": [
       "dict_items([('Laptop', ['Dell', 999.99]), ('Smartphone', ['Apple', 799.99]), ('Headphones', ['Sony', 129.95]), ('Tablet', ['Samsung', 349.99])])"
      ]
     },
     "execution_count": 30,
     "metadata": {},
     "output_type": "execute_result"
    }
   ],
   "source": [
    "product_dict = {\n",
    "    \"Laptop\": [\"Dell\", 999.99],\n",
    "    \"Smartphone\": [\"Apple\", 799.99],\n",
    "    \"Headphones\": [\"Sony\", 129.95],\n",
    "    \"Tablet\": [\"Samsung\", 349.99]\n",
    "}\n",
    "product_dict.items()"
   ]
  },
  {
   "cell_type": "code",
   "execution_count": 31,
   "id": "1afa35a4-0e05-48d5-b7fa-eb5ba73da131",
   "metadata": {
    "colab": {
     "base_uri": "https://localhost:8080/"
    },
    "executionInfo": {
     "elapsed": 29,
     "status": "ok",
     "timestamp": 1761759935931,
     "user": {
      "displayName": "zehra abdullayeva",
      "userId": "10788366133161466723"
     },
     "user_tz": -180
    },
    "id": "1afa35a4-0e05-48d5-b7fa-eb5ba73da131",
    "outputId": "9e1a1eca-7934-4e54-a12c-83e5aadcf940"
   },
   "outputs": [
    {
     "name": "stdout",
     "output_type": "stream",
     "text": [
      "dict_items([('Laptop', ['Dell', 999.99]), ('Smartphone', ['Apple', 799.99]), ('Headphones', ['Sony', 129.95]), ('Tablet', ['Samsung', 349.99])])\n",
      "dict_keys(['Laptop', 'Smartphone', 'Headphones', 'Tablet'])\n",
      "dict_values([['Dell', 999.99], ['Apple', 799.99], ['Sony', 129.95], ['Samsung', 349.99]])\n"
     ]
    }
   ],
   "source": [
    "# 1. Print the keys and values of the product_dict dictionary.\n",
    "# 1.product_dict lüğətinin açarlarını (keys) və dəyərlərini (values) çap edin.\n",
    "print(product_dict.items())\n",
    "print(product_dict.keys())\n",
    "print(product_dict.values())\n",
    "\n",
    "\n"
   ]
  },
  {
   "cell_type": "code",
   "execution_count": 32,
   "id": "choTKi5CDYIH",
   "metadata": {
    "colab": {
     "base_uri": "https://localhost:8080/"
    },
    "executionInfo": {
     "elapsed": 25,
     "status": "ok",
     "timestamp": 1761759935961,
     "user": {
      "displayName": "zehra abdullayeva",
      "userId": "10788366133161466723"
     },
     "user_tz": -180
    },
    "id": "choTKi5CDYIH",
    "outputId": "f2ef61d0-35df-4eb9-a1c1-2a4b69b7d010"
   },
   "outputs": [
    {
     "name": "stdout",
     "output_type": "stream",
     "text": [
      "Laptop ['Dell', 999.99]\n",
      "Smartphone ['Apple', 799.99]\n",
      "Headphones ['Sony', 129.95]\n",
      "Tablet ['Samsung', 349.99]\n"
     ]
    }
   ],
   "source": [
    "for key, value in product_dict.items():\n",
    "  print(key, value)"
   ]
  },
  {
   "cell_type": "code",
   "execution_count": 33,
   "id": "c36fbb3b-6027-46ff-9f8f-ecdd7f335361",
   "metadata": {
    "colab": {
     "base_uri": "https://localhost:8080/"
    },
    "executionInfo": {
     "elapsed": 22,
     "status": "ok",
     "timestamp": 1761759935988,
     "user": {
      "displayName": "zehra abdullayeva",
      "userId": "10788366133161466723"
     },
     "user_tz": -180
    },
    "id": "c36fbb3b-6027-46ff-9f8f-ecdd7f335361",
    "outputId": "b06e5f04-e78d-4837-aba6-b75c8ce3784c"
   },
   "outputs": [
    {
     "data": {
      "text/plain": [
       "{'Laptop': ['Dell', 999.99],\n",
       " 'Smartphone': ['Samsung', 500],\n",
       " 'Headphones': ['Sony', 129.95],\n",
       " 'Tablet': ['Samsung', 349.99]}"
      ]
     },
     "execution_count": 33,
     "metadata": {},
     "output_type": "execute_result"
    }
   ],
   "source": [
    "# 2. Change \"Smartphone\": [\"Apple\", 799.99] to \"Smartphone\": [\"Samsung\", 500].\n",
    "# 2. \"Smartphone\": [\"Apple\", 799.99] yazısını \"Smartphone\": [\"Samsung\", 500] olaraq dəyişdirin.\n",
    "product_dict[\"Smartphone\"]=[\"Samsung\", 500]\n",
    "product_dict\n"
   ]
  },
  {
   "cell_type": "code",
   "execution_count": 34,
   "id": "b8a95c25-b677-4442-96aa-ba29e14161fb",
   "metadata": {
    "colab": {
     "base_uri": "https://localhost:8080/"
    },
    "executionInfo": {
     "elapsed": 36,
     "status": "ok",
     "timestamp": 1761759936081,
     "user": {
      "displayName": "zehra abdullayeva",
      "userId": "10788366133161466723"
     },
     "user_tz": -180
    },
    "id": "b8a95c25-b677-4442-96aa-ba29e14161fb",
    "outputId": "0072eb49-19ac-4d92-cded-32e1fb740912"
   },
   "outputs": [
    {
     "data": {
      "text/plain": [
       "['Samsung', 500]"
      ]
     },
     "execution_count": 34,
     "metadata": {},
     "output_type": "execute_result"
    }
   ],
   "source": [
    "# 3. Print the value of the \"Smartphone\" key.\n",
    "# 3. \"Smartphone\" açarının dəyərini çap edin.\n",
    "product_dict[\"Smartphone\"]"
   ]
  },
  {
   "cell_type": "markdown",
   "id": "86a8af4f-9fda-41a7-959b-0fb5eb5b9892",
   "metadata": {
    "id": "86a8af4f-9fda-41a7-959b-0fb5eb5b9892"
   },
   "source": [
    "# Tuple"
   ]
  },
  {
   "cell_type": "code",
   "execution_count": 35,
   "id": "92eefb46-d320-4658-b860-7e207178bd21",
   "metadata": {
    "executionInfo": {
     "elapsed": 50,
     "status": "ok",
     "timestamp": 1761759936110,
     "user": {
      "displayName": "zehra abdullayeva",
      "userId": "10788366133161466723"
     },
     "user_tz": -180
    },
    "id": "92eefb46-d320-4658-b860-7e207178bd21"
   },
   "outputs": [],
   "source": [
    "my_tuple = (\"Auto\", \"Fahrrad\", \"Motorrad\")"
   ]
  },
  {
   "cell_type": "code",
   "execution_count": 36,
   "id": "5f3df862-4ec9-48ad-b837-6c50a9c4cc60",
   "metadata": {
    "colab": {
     "base_uri": "https://localhost:8080/"
    },
    "executionInfo": {
     "elapsed": 31,
     "status": "ok",
     "timestamp": 1761759936121,
     "user": {
      "displayName": "zehra abdullayeva",
      "userId": "10788366133161466723"
     },
     "user_tz": -180
    },
    "id": "5f3df862-4ec9-48ad-b837-6c50a9c4cc60",
    "outputId": "3f0e5d5c-c3cc-462c-9e99-ad98e5a50c73"
   },
   "outputs": [
    {
     "name": "stdout",
     "output_type": "stream",
     "text": [
      "Auto\n",
      "Motorrad\n"
     ]
    }
   ],
   "source": [
    "# 1. Print the first and last elements of the my_tuple tuple in Python.\n",
    "# 1. Python-da my_tuple tuplenin ilk və son elementini çap edin.\n",
    "print(my_tuple[0])\n",
    "print(my_tuple[-1])"
   ]
  },
  {
   "cell_type": "code",
   "execution_count": 37,
   "id": "4351d1fc-2423-4405-84f3-bf7b5a974e1d",
   "metadata": {
    "colab": {
     "base_uri": "https://localhost:8080/"
    },
    "executionInfo": {
     "elapsed": 19,
     "status": "ok",
     "timestamp": 1761759936142,
     "user": {
      "displayName": "zehra abdullayeva",
      "userId": "10788366133161466723"
     },
     "user_tz": -180
    },
    "id": "4351d1fc-2423-4405-84f3-bf7b5a974e1d",
    "outputId": "293263b4-86cc-48a8-c606-de8f6e1d5436"
   },
   "outputs": [
    {
     "data": {
      "text/plain": [
       "('Fahrrad', 'Motorrad')"
      ]
     },
     "execution_count": 37,
     "metadata": {},
     "output_type": "execute_result"
    }
   ],
   "source": [
    "# 2. Remove the first element from the my_tuple tuple in Python.\n",
    "# 2. Python-da my_tuple  tuplenin ilk elementini silin.\n",
    "my_list=list(my_tuple)\n",
    "my_list.pop(0)\n",
    "my_tuple=tuple(my_list)\n",
    "my_tuple"
   ]
  },
  {
   "cell_type": "markdown",
   "id": "qjZ0zobSn0UR",
   "metadata": {
    "id": "qjZ0zobSn0UR"
   },
   "source": []
  },
  {
   "cell_type": "markdown",
   "id": "65d0eecc-1ca3-4ca1-bbd7-f35c87c26541",
   "metadata": {
    "id": "65d0eecc-1ca3-4ca1-bbd7-f35c87c26541"
   },
   "source": [
    "# Set"
   ]
  },
  {
   "cell_type": "code",
   "execution_count": 38,
   "id": "c52759b8-da3c-4402-b295-9448b294c60b",
   "metadata": {
    "executionInfo": {
     "elapsed": 8,
     "status": "ok",
     "timestamp": 1761759936215,
     "user": {
      "displayName": "zehra abdullayeva",
      "userId": "10788366133161466723"
     },
     "user_tz": -180
    },
    "id": "c52759b8-da3c-4402-b295-9448b294c60b"
   },
   "outputs": [],
   "source": [
    "# 1. Create a Python set with the values \"Auto\", \"Fahrrad\", and \"Motorrad\".\n",
    "# 1. \"Auto\", \"Fahrrad\" və \"Motorrad\" dəyərləri ilə bir Python seti yaradın.\n",
    "my_set={\"Auto\", \"Fahrrad\",\"Motorrad\"}\n",
    "\n",
    "# my_set=set([\"Auto\", \"Fahrrad\",\"Motorrad\"])"
   ]
  },
  {
   "cell_type": "code",
   "execution_count": 39,
   "id": "50d07675-859a-4672-af41-1bdc8219544d",
   "metadata": {
    "colab": {
     "base_uri": "https://localhost:8080/"
    },
    "executionInfo": {
     "elapsed": 49,
     "status": "ok",
     "timestamp": 1761759936276,
     "user": {
      "displayName": "zehra abdullayeva",
      "userId": "10788366133161466723"
     },
     "user_tz": -180
    },
    "id": "50d07675-859a-4672-af41-1bdc8219544d",
    "outputId": "d950877b-e6c4-4260-da97-a8d89b309da0"
   },
   "outputs": [
    {
     "data": {
      "text/plain": [
       "{'Auto', 'Fahrrad', 'Motorrad'}"
      ]
     },
     "execution_count": 39,
     "metadata": {},
     "output_type": "execute_result"
    }
   ],
   "source": [
    "# 2. Add the element \"Auto\" to the existing set.\n",
    "# 2. Artıq yaradılmış setə \"Auto\" elementini əlavə edin.\n",
    "my_set.add(\"Auto\")\n",
    "my_set"
   ]
  },
  {
   "cell_type": "code",
   "execution_count": 40,
   "id": "f28af5b5-6309-4997-a84e-b077b353c274",
   "metadata": {
    "colab": {
     "base_uri": "https://localhost:8080/"
    },
    "executionInfo": {
     "elapsed": 32,
     "status": "ok",
     "timestamp": 1761759936280,
     "user": {
      "displayName": "zehra abdullayeva",
      "userId": "10788366133161466723"
     },
     "user_tz": -180
    },
    "id": "f28af5b5-6309-4997-a84e-b077b353c274",
    "outputId": "67020484-c246-47ac-93b7-7205a37c8e52"
   },
   "outputs": [
    {
     "name": "stdout",
     "output_type": "stream",
     "text": [
      "3\n"
     ]
    }
   ],
   "source": [
    "# 3. Count the number of elements in my_set and print my_set.\n",
    "# 3 my_set-dəki elementlərin sayını hesablayın və my_set-i çap edin.\n",
    "print(len(my_set))"
   ]
  }
 ],
 "metadata": {
  "colab": {
   "provenance": [
    {
     "file_id": "1GceYENxh__6GLnF7LBP7Xq4YwtXhHnyK",
     "timestamp": 1761502746309
    }
   ]
  },
  "kernelspec": {
   "display_name": "Python 3",
   "language": "python",
   "name": "python3"
  },
  "language_info": {
   "codemirror_mode": {
    "name": "ipython",
    "version": 3
   },
   "file_extension": ".py",
   "mimetype": "text/x-python",
   "name": "python",
   "nbconvert_exporter": "python",
   "pygments_lexer": "ipython3",
   "version": "3.14.0"
  }
 },
 "nbformat": 4,
 "nbformat_minor": 5
}
